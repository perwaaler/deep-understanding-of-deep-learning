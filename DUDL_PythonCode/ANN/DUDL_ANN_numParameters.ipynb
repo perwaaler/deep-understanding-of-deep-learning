{
 "cells": [],
 "metadata": {
  "kernelspec": {
   "display_name": "udemy-ann",
   "language": "python",
   "name": "python3"
  },
  "language_info": {
   "name": "python",
   "version": "3.10.12"
  }
 },
 "nbformat": 4,
 "nbformat_minor": 2
}
